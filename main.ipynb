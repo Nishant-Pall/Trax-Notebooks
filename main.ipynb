{
 "metadata": {
  "language_info": {
   "codemirror_mode": {
    "name": "ipython",
    "version": 3
   },
   "file_extension": ".py",
   "mimetype": "text/x-python",
   "name": "python",
   "nbconvert_exporter": "python",
   "pygments_lexer": "ipython3",
   "version": "3.8.2-final"
  },
  "orig_nbformat": 2,
  "kernelspec": {
   "name": "Python 3.8.2 64-bit",
   "display_name": "Python 3.8.2 64-bit",
   "metadata": {
    "interpreter": {
     "hash": "31f2aee4e71d21fbe5cf8b01ff0e069b9275f58929596ceb00d14d90e3e16cd6"
    }
   }
  }
 },
 "nbformat": 4,
 "nbformat_minor": 2,
 "cells": [
  {
   "cell_type": "code",
   "execution_count": 1,
   "metadata": {
    "tags": []
   },
   "outputs": [
    {
     "output_type": "stream",
     "name": "stdout",
     "text": "INFO:tensorflow:tokens_length=568 inputs_length=512 targets_length=114 noise_density=0.15 mean_noise_span_length=3.0 \n"
    }
   ],
   "source": [
    "import numpy as np\n",
    "import trax"
   ]
  },
  {
   "cell_type": "code",
   "execution_count": 2,
   "metadata": {
    "tags": []
   },
   "outputs": [],
   "source": [
    "from trax import layers as tl\n",
    "from trax import shapes, fastmath"
   ]
  },
  {
   "cell_type": "code",
   "execution_count": 3,
   "metadata": {},
   "outputs": [],
   "source": [
    "from trax.fastmath import numpy as fastnp"
   ]
  },
  {
   "cell_type": "code",
   "execution_count": 4,
   "metadata": {},
   "outputs": [],
   "source": [
    "one = fastnp.ones([4,4])"
   ]
  },
  {
   "cell_type": "code",
   "execution_count": 5,
   "metadata": {},
   "outputs": [
    {
     "output_type": "execute_result",
     "data": {
      "text/plain": "DeviceArray([[1., 1., 1., 1.],\n             [1., 1., 1., 1.],\n             [1., 1., 1., 1.],\n             [1., 1., 1., 1.]], dtype=float32)"
     },
     "metadata": {},
     "execution_count": 5
    }
   ],
   "source": [
    "one"
   ]
  },
  {
   "cell_type": "code",
   "execution_count": 6,
   "metadata": {},
   "outputs": [
    {
     "output_type": "execute_result",
     "data": {
      "text/plain": "DeviceArray([[2., 2., 2., 2.],\n             [2., 2., 2., 2.],\n             [2., 2., 2., 2.],\n             [2., 2., 2., 2.]], dtype=float32)"
     },
     "metadata": {},
     "execution_count": 6
    }
   ],
   "source": [
    "one + 1"
   ]
  },
  {
   "cell_type": "code",
   "execution_count": 7,
   "metadata": {},
   "outputs": [],
   "source": [
    "x = fastnp.array([[1, 1, 1, 1],[1, 1, 1, 1]])"
   ]
  },
  {
   "cell_type": "code",
   "execution_count": 8,
   "metadata": {},
   "outputs": [
    {
     "output_type": "execute_result",
     "data": {
      "text/plain": "DeviceArray([[4., 4., 4., 4.],\n             [4., 4., 4., 4.]], dtype=float32)"
     },
     "metadata": {},
     "execution_count": 8
    }
   ],
   "source": [
    "fastnp.dot(x, one)"
   ]
  },
  {
   "cell_type": "code",
   "execution_count": 9,
   "metadata": {},
   "outputs": [],
   "source": [
    "def f(x):\n",
    "    return 2 * x * x\n",
    "    "
   ]
  },
  {
   "cell_type": "code",
   "execution_count": 10,
   "metadata": {},
   "outputs": [],
   "source": [
    "grad_f = trax.fastmath.grad(f)"
   ]
  },
  {
   "cell_type": "code",
   "execution_count": 11,
   "metadata": {},
   "outputs": [
    {
     "output_type": "execute_result",
     "data": {
      "text/plain": "&lt;module &#39;trax&#39; from &#39;/home/prhyme/.local/lib/python3.8/site-packages/trax/__init__.py&#39;&gt;"
     },
     "metadata": {},
     "execution_count": 11
    }
   ],
   "source": [
    "trax"
   ]
  },
  {
   "cell_type": "code",
   "execution_count": 12,
   "metadata": {},
   "outputs": [
    {
     "output_type": "execute_result",
     "data": {
      "text/plain": "DeviceArray(4., dtype=float32)"
     },
     "metadata": {},
     "execution_count": 12
    }
   ],
   "source": [
    "grad_f(1.0)"
   ]
  },
  {
   "cell_type": "code",
   "execution_count": 13,
   "metadata": {
    "tags": []
   },
   "outputs": [
    {
     "output_type": "stream",
     "name": "stdout",
     "text": "8.0\n"
    }
   ],
   "source": [
    "print(grad_f(2.0))"
   ]
  },
  {
   "cell_type": "code",
   "execution_count": 14,
   "metadata": {},
   "outputs": [],
   "source": [
    "relu = tl.Relu()"
   ]
  },
  {
   "cell_type": "code",
   "execution_count": 15,
   "metadata": {},
   "outputs": [
    {
     "output_type": "execute_result",
     "data": {
      "text/plain": "&#39;Relu&#39;"
     },
     "metadata": {},
     "execution_count": 15
    }
   ],
   "source": [
    "relu.name"
   ]
  },
  {
   "cell_type": "code",
   "execution_count": 16,
   "metadata": {},
   "outputs": [
    {
     "output_type": "execute_result",
     "data": {
      "text/plain": "1"
     },
     "metadata": {},
     "execution_count": 16
    }
   ],
   "source": [
    "relu.n_in"
   ]
  },
  {
   "cell_type": "code",
   "execution_count": 17,
   "metadata": {},
   "outputs": [
    {
     "output_type": "execute_result",
     "data": {
      "text/plain": "1"
     },
     "metadata": {},
     "execution_count": 17
    }
   ],
   "source": [
    "relu.n_out"
   ]
  },
  {
   "cell_type": "code",
   "execution_count": 18,
   "metadata": {},
   "outputs": [],
   "source": [
    "x = np.array([-2,0,1,3])"
   ]
  },
  {
   "cell_type": "code",
   "execution_count": 19,
   "metadata": {},
   "outputs": [
    {
     "output_type": "execute_result",
     "data": {
      "text/plain": "DeviceArray([0, 0, 1, 3], dtype=int32)"
     },
     "metadata": {},
     "execution_count": 19
    }
   ],
   "source": [
    "relu(x)"
   ]
  },
  {
   "cell_type": "code",
   "execution_count": 20,
   "metadata": {},
   "outputs": [],
   "source": [
    "# Concatenate Layer"
   ]
  },
  {
   "cell_type": "code",
   "execution_count": 21,
   "metadata": {},
   "outputs": [],
   "source": [
    "concat = tl.Concatenate()"
   ]
  },
  {
   "cell_type": "code",
   "execution_count": 22,
   "metadata": {},
   "outputs": [
    {
     "output_type": "execute_result",
     "data": {
      "text/plain": "&#39;Concatenate&#39;"
     },
     "metadata": {},
     "execution_count": 22
    }
   ],
   "source": [
    "concat.name"
   ]
  },
  {
   "cell_type": "code",
   "execution_count": 23,
   "metadata": {},
   "outputs": [
    {
     "output_type": "execute_result",
     "data": {
      "text/plain": "DeviceArray([1, 1], dtype=int32)"
     },
     "metadata": {},
     "execution_count": 23
    }
   ],
   "source": [
    "tl.Relu()(np.array([1,1,]))"
   ]
  },
  {
   "cell_type": "code",
   "execution_count": 24,
   "metadata": {},
   "outputs": [
    {
     "output_type": "execute_result",
     "data": {
      "text/plain": "2"
     },
     "metadata": {},
     "execution_count": 24
    }
   ],
   "source": [
    "concat.n_in"
   ]
  },
  {
   "cell_type": "code",
   "execution_count": 25,
   "metadata": {},
   "outputs": [
    {
     "output_type": "execute_result",
     "data": {
      "text/plain": "1"
     },
     "metadata": {},
     "execution_count": 25
    }
   ],
   "source": [
    "concat.n_out"
   ]
  },
  {
   "cell_type": "code",
   "execution_count": 26,
   "metadata": {},
   "outputs": [],
   "source": [
    "x1 = np.array([1,1,2,2])\n",
    "x2 = np.array([3,3,4,4])"
   ]
  },
  {
   "cell_type": "code",
   "execution_count": 27,
   "metadata": {},
   "outputs": [
    {
     "output_type": "execute_result",
     "data": {
      "text/plain": "DeviceArray([1, 1, 2, 2, 3, 3, 4, 4], dtype=int32)"
     },
     "metadata": {},
     "execution_count": 27
    }
   ],
   "source": [
    "concat([x1, x2])"
   ]
  },
  {
   "cell_type": "code",
   "execution_count": 28,
   "metadata": {},
   "outputs": [],
   "source": [
    "# Layers are configurable"
   ]
  },
  {
   "cell_type": "code",
   "execution_count": 29,
   "metadata": {},
   "outputs": [],
   "source": [
    "concat_3 = tl.Concatenate(n_items=3)"
   ]
  },
  {
   "cell_type": "code",
   "execution_count": 30,
   "metadata": {},
   "outputs": [],
   "source": [
    "x3 = np.array([5,5, 6,6])"
   ]
  },
  {
   "cell_type": "code",
   "execution_count": 31,
   "metadata": {},
   "outputs": [
    {
     "output_type": "execute_result",
     "data": {
      "text/plain": "DeviceArray([1, 1, 2, 2, 3, 3, 4, 4, 5, 5, 6, 6], dtype=int32)"
     },
     "metadata": {},
     "execution_count": 31
    }
   ],
   "source": [
    "concat_3([x1,x2,x3])"
   ]
  },
  {
   "cell_type": "code",
   "execution_count": 32,
   "metadata": {
    "tags": []
   },
   "outputs": [
    {
     "output_type": "stream",
     "name": "stdout",
     "text": "Help on class Concatenate in module trax.layers.combinators:\n\nclass Concatenate(trax.layers.base.Layer)\n |  Concatenate(n_items=2, axis=-1)\n |  \n |  Concatenates n tensors into a single tensor.\n |  \n |  Method resolution order:\n |      Concatenate\n |      trax.layers.base.Layer\n |      builtins.object\n |  \n |  Methods defined here:\n |  \n |  __init__(self, n_items=2, axis=-1)\n |      Creates a partially initialized, unconnected layer instance.\n |      \n |      Args:\n |        n_in: Number of inputs expected by this layer.\n |        n_out: Number of outputs promised by this layer.\n |        name: Class-like name for this layer; for use when printing this layer.\n |        sublayers_to_print: Sublayers to display when printing out this layer;\n |          By default (when None) we display all sublayers.\n |  \n |  forward(self, xs)\n |      Computes this layer&#39;s output as part of a forward pass through the model.\n |      \n |      Authors of new layer subclasses should override this method to define the\n |      forward computation that their layer performs. Use `self.weights` to access\n |      trainable weights of this layer. If you need to use local non-trainable\n |      state or randomness, use `self.rng` for the random seed (no need to set it)\n |      and use `self.state` for non-trainable state (and set it to the new value).\n |      \n |      Args:\n |        inputs: Zero or more input tensors, packaged as described in the `Layer`\n |            class docstring.\n |      \n |      Returns:\n |        Zero or more output tensors, packaged as described in the `Layer` class\n |        docstring.\n |  \n |  ----------------------------------------------------------------------\n |  Methods inherited from trax.layers.base.Layer:\n |  \n |  __call__(self, x, weights=None, state=None, rng=None)\n |      Makes layers callable; for use in tests or interactive settings.\n |      \n |      This convenience method helps library users play with, test, or otherwise\n |      probe the behavior of layers outside of a full training environment. It\n |      presents the layer as callable function from inputs to outputs, with the\n |      option of manually specifying weights and non-parameter state per individual\n |      call. For convenience, weights and non-parameter state are cached per layer\n |      instance, starting from default values of `EMPTY_WEIGHTS` and `EMPTY_STATE`,\n |      and acquiring non-empty values either by initialization or from values\n |      explicitly provided via the weights and state keyword arguments.\n |      \n |      Args:\n |        x: Zero or more input tensors, packaged as described in the `Layer` class\n |            docstring.\n |        weights: Weights or `None`; if `None`, use self&#39;s cached weights value.\n |        state: State or `None`; if `None`, use self&#39;s cached state value.\n |        rng: Single-use random number generator (JAX PRNG key), or `None`;\n |            if `None`, use a default computed from an integer 0 seed.\n |      \n |      Returns:\n |        Zero or more output tensors, packaged as described in the `Layer` class\n |        docstring.\n |  \n |  __repr__(self)\n |      Return repr(self).\n |  \n |  backward(self, inputs, output, grad, weights, state, new_state, rng)\n |      Custom backward pass to propagate gradients in a custom way.\n |      \n |      Args:\n |        inputs: Input tensors; can be a (possibly nested) tuple.\n |        output: The result of running this layer on inputs.\n |        grad: Gradient signal computed based on subsequent layers; its structure\n |            and shape must match output.\n |        weights: This layer&#39;s weights.\n |        state: This layer&#39;s state prior to the current forward pass.\n |        new_state: This layer&#39;s state after the current forward pass.\n |        rng: Single-use random number generator (JAX PRNG key).\n |      \n |      Returns:\n |        The custom gradient signal for the input. Note that we need to return\n |        a gradient for each argument of forward, so it will usually be a tuple\n |        of signals: the gradient for inputs and weights.\n |  \n |  init(self, input_signature, rng=None, use_cache=False)\n |      Initializes weights/state of this layer and its sublayers recursively.\n |      \n |      Initialization creates layer weights and state, for layers that use them.\n |      It derives the necessary array shapes and data types from the layer&#39;s input\n |      signature, which is itself just shape and data type information.\n |      \n |      For layers without weights or state, this method safely does nothing.\n |      \n |      This method is designed to create weights/state only once for each layer\n |      instance, even if the same layer instance occurs in multiple places in the\n |      network. This enables weight sharing to be implemented as layer sharing.\n |      \n |      Args:\n |        input_signature: `ShapeDtype` instance (if this layer takes one input)\n |            or list/tuple of `ShapeDtype` instances.\n |        rng: Single-use random number generator (JAX PRNG key), or `None`;\n |            if `None`, use a default computed from an integer 0 seed.\n |        use_cache: If `True`, and if this layer instance has already been\n |            initialized elsewhere in the network, then return special marker\n |            values -- tuple `(GET_WEIGHTS_FROM_CACHE, GET_STATE_FROM_CACHE)`.\n |            Else return this layer&#39;s newly initialized weights and state.\n |      \n |      Returns:\n |        A `(weights, state)` tuple.\n |  \n |  init_from_file(self, file_name, weights_only=False, input_signature=None)\n |      Initializes this layer and its sublayers from a pickled checkpoint.\n |      \n |      In the common case (`weights_only=False`), the file must be a gziped pickled\n |      dictionary containing items with keys `&#39;flat_weights&#39;, `&#39;flat_state&#39;` and\n |      `&#39;input_signature&#39;`, which are used to initialize this layer.\n |      If `input_signature` is specified, it&#39;s used instead of the one in the file.\n |      If `weights_only` is `True`, the dictionary does not need to have the\n |      `&#39;flat_state&#39;` item and the state it not restored either.\n |      \n |      Args:\n |        file_name: Name/path of the pickeled weights/state file.\n |        weights_only: If `True`, initialize only the layer&#39;s weights. Else\n |            initialize both weights and state.\n |        input_signature: Input signature to be used instead of the one from file.\n |  \n |  init_weights_and_state(self, input_signature)\n |      Initializes weights and state for inputs with the given signature.\n |      \n |      Authors of new layer subclasses should override this method if their layer\n |      uses trainable weights or non-trainable state. To initialize trainable\n |      weights, set `self.weights` and to initialize non-trainable state,\n |      set `self.state` to the intended value.\n |      \n |      Args:\n |        input_signature: A `ShapeDtype` instance (if this layer takes one input)\n |            or a list/tuple of `ShapeDtype` instances; signatures of inputs.\n |  \n |  output_signature(self, input_signature)\n |      Returns output signature this layer would give for `input_signature`.\n |  \n |  pure_fn(self, x, weights, state, rng, use_cache=False)\n |      Applies this layer as a pure function with no optional args.\n |      \n |      This method exposes the layer&#39;s computation as a pure function. This is\n |      especially useful for JIT compilation. Do not override, use `forward`\n |      instead.\n |      \n |      Args:\n |        x: Zero or more input tensors, packaged as described in the `Layer` class\n |            docstring.\n |        weights: A tuple or list of trainable weights, with one element for this\n |            layer if this layer has no sublayers, or one for each sublayer if\n |            this layer has sublayers. If a layer (or sublayer) has no trainable\n |            weights, the corresponding weights element is an empty tuple.\n |        state: Layer-specific non-parameter state that can update between batches.\n |        rng: Single-use random number generator (JAX PRNG key).\n |        use_cache: if `True`, cache weights and state in the layer object; used\n |          to implement layer sharing in combinators.\n |      \n |      Returns:\n |        A tuple of `(tensors, state)`. The tensors match the number (`n_out`)\n |        promised by this layer, and are packaged as described in the `Layer`\n |        class docstring.\n |  \n |  weights_and_state_signature(self, input_signature)\n |      Return a pair containing the signatures of weights and state.\n |  \n |  ----------------------------------------------------------------------\n |  Readonly properties inherited from trax.layers.base.Layer:\n |  \n |  has_backward\n |      Returns `True` if this layer provides its own custom backward pass code.\n |      \n |      A layer subclass that provides custom backward pass code (for custom\n |      gradients) must override this method to return `True`.\n |  \n |  n_in\n |      Returns how many tensors this layer expects as input.\n |  \n |  n_out\n |      Returns how many tensors this layer promises as output.\n |  \n |  name\n |      Returns the name of this layer.\n |  \n |  sublayers\n |      Returns a tuple containing this layer&#39;s sublayers; may be empty.\n |  \n |  ----------------------------------------------------------------------\n |  Data descriptors inherited from trax.layers.base.Layer:\n |  \n |  __dict__\n |      dictionary for instance variables (if defined)\n |  \n |  __weakref__\n |      list of weak references to the object (if defined)\n |  \n |  rng\n |      Returns a single-use random number generator without advancing it.\n |  \n |  state\n |      Returns a tuple containing this layer&#39;s state; may be empty.\n |      \n |      If the layer has sublayers, the state by convention will be\n |      a tuple of length `len(sublayers)` containing sublayer states.\n |      Note that in this case self._state only marks which ones are shared.\n |  \n |  weights\n |      Returns this layer&#39;s weights.\n |      \n |      Depending on the layer, the weights can be in the form of:\n |      \n |        - an empty tuple\n |        - a tensor (ndarray)\n |        - a nested structure of tuples and tensors\n |      \n |      If the layer has sublayers, the weights by convention will be\n |      a tuple of length `len(sublayers)` containing the weights of sublayers.\n |      Note that in this case self._weights only marks which ones are shared.\n\n"
    }
   ],
   "source": [
    "help(tl.Concatenate)"
   ]
  },
  {
   "cell_type": "code",
   "execution_count": 33,
   "metadata": {},
   "outputs": [],
   "source": [
    "# Layers can have weights"
   ]
  },
  {
   "cell_type": "code",
   "execution_count": 34,
   "metadata": {
    "tags": []
   },
   "outputs": [
    {
     "output_type": "stream",
     "name": "stdout",
     "text": "Help on class LayerNorm in module trax.layers.normalization:\n\nclass LayerNorm(trax.layers.base.Layer)\n |  LayerNorm(epsilon=1e-06)\n |  \n |  Layer normalization.\n |  \n |  Method resolution order:\n |      LayerNorm\n |      trax.layers.base.Layer\n |      builtins.object\n |  \n |  Methods defined here:\n |  \n |  __init__(self, epsilon=1e-06)\n |      Creates a partially initialized, unconnected layer instance.\n |      \n |      Args:\n |        n_in: Number of inputs expected by this layer.\n |        n_out: Number of outputs promised by this layer.\n |        name: Class-like name for this layer; for use when printing this layer.\n |        sublayers_to_print: Sublayers to display when printing out this layer;\n |          By default (when None) we display all sublayers.\n |  \n |  forward(self, x)\n |      Computes this layer&#39;s output as part of a forward pass through the model.\n |      \n |      Authors of new layer subclasses should override this method to define the\n |      forward computation that their layer performs. Use `self.weights` to access\n |      trainable weights of this layer. If you need to use local non-trainable\n |      state or randomness, use `self.rng` for the random seed (no need to set it)\n |      and use `self.state` for non-trainable state (and set it to the new value).\n |      \n |      Args:\n |        inputs: Zero or more input tensors, packaged as described in the `Layer`\n |            class docstring.\n |      \n |      Returns:\n |        Zero or more output tensors, packaged as described in the `Layer` class\n |        docstring.\n |  \n |  init_weights_and_state(self, input_signature)\n |      Initializes weights and state for inputs with the given signature.\n |      \n |      Authors of new layer subclasses should override this method if their layer\n |      uses trainable weights or non-trainable state. To initialize trainable\n |      weights, set `self.weights` and to initialize non-trainable state,\n |      set `self.state` to the intended value.\n |      \n |      Args:\n |        input_signature: A `ShapeDtype` instance (if this layer takes one input)\n |            or a list/tuple of `ShapeDtype` instances; signatures of inputs.\n |  \n |  ----------------------------------------------------------------------\n |  Methods inherited from trax.layers.base.Layer:\n |  \n |  __call__(self, x, weights=None, state=None, rng=None)\n |      Makes layers callable; for use in tests or interactive settings.\n |      \n |      This convenience method helps library users play with, test, or otherwise\n |      probe the behavior of layers outside of a full training environment. It\n |      presents the layer as callable function from inputs to outputs, with the\n |      option of manually specifying weights and non-parameter state per individual\n |      call. For convenience, weights and non-parameter state are cached per layer\n |      instance, starting from default values of `EMPTY_WEIGHTS` and `EMPTY_STATE`,\n |      and acquiring non-empty values either by initialization or from values\n |      explicitly provided via the weights and state keyword arguments.\n |      \n |      Args:\n |        x: Zero or more input tensors, packaged as described in the `Layer` class\n |            docstring.\n |        weights: Weights or `None`; if `None`, use self&#39;s cached weights value.\n |        state: State or `None`; if `None`, use self&#39;s cached state value.\n |        rng: Single-use random number generator (JAX PRNG key), or `None`;\n |            if `None`, use a default computed from an integer 0 seed.\n |      \n |      Returns:\n |        Zero or more output tensors, packaged as described in the `Layer` class\n |        docstring.\n |  \n |  __repr__(self)\n |      Return repr(self).\n |  \n |  backward(self, inputs, output, grad, weights, state, new_state, rng)\n |      Custom backward pass to propagate gradients in a custom way.\n |      \n |      Args:\n |        inputs: Input tensors; can be a (possibly nested) tuple.\n |        output: The result of running this layer on inputs.\n |        grad: Gradient signal computed based on subsequent layers; its structure\n |            and shape must match output.\n |        weights: This layer&#39;s weights.\n |        state: This layer&#39;s state prior to the current forward pass.\n |        new_state: This layer&#39;s state after the current forward pass.\n |        rng: Single-use random number generator (JAX PRNG key).\n |      \n |      Returns:\n |        The custom gradient signal for the input. Note that we need to return\n |        a gradient for each argument of forward, so it will usually be a tuple\n |        of signals: the gradient for inputs and weights.\n |  \n |  init(self, input_signature, rng=None, use_cache=False)\n |      Initializes weights/state of this layer and its sublayers recursively.\n |      \n |      Initialization creates layer weights and state, for layers that use them.\n |      It derives the necessary array shapes and data types from the layer&#39;s input\n |      signature, which is itself just shape and data type information.\n |      \n |      For layers without weights or state, this method safely does nothing.\n |      \n |      This method is designed to create weights/state only once for each layer\n |      instance, even if the same layer instance occurs in multiple places in the\n |      network. This enables weight sharing to be implemented as layer sharing.\n |      \n |      Args:\n |        input_signature: `ShapeDtype` instance (if this layer takes one input)\n |            or list/tuple of `ShapeDtype` instances.\n |        rng: Single-use random number generator (JAX PRNG key), or `None`;\n |            if `None`, use a default computed from an integer 0 seed.\n |        use_cache: If `True`, and if this layer instance has already been\n |            initialized elsewhere in the network, then return special marker\n |            values -- tuple `(GET_WEIGHTS_FROM_CACHE, GET_STATE_FROM_CACHE)`.\n |            Else return this layer&#39;s newly initialized weights and state.\n |      \n |      Returns:\n |        A `(weights, state)` tuple.\n |  \n |  init_from_file(self, file_name, weights_only=False, input_signature=None)\n |      Initializes this layer and its sublayers from a pickled checkpoint.\n |      \n |      In the common case (`weights_only=False`), the file must be a gziped pickled\n |      dictionary containing items with keys `&#39;flat_weights&#39;, `&#39;flat_state&#39;` and\n |      `&#39;input_signature&#39;`, which are used to initialize this layer.\n |      If `input_signature` is specified, it&#39;s used instead of the one in the file.\n |      If `weights_only` is `True`, the dictionary does not need to have the\n |      `&#39;flat_state&#39;` item and the state it not restored either.\n |      \n |      Args:\n |        file_name: Name/path of the pickeled weights/state file.\n |        weights_only: If `True`, initialize only the layer&#39;s weights. Else\n |            initialize both weights and state.\n |        input_signature: Input signature to be used instead of the one from file.\n |  \n |  output_signature(self, input_signature)\n |      Returns output signature this layer would give for `input_signature`.\n |  \n |  pure_fn(self, x, weights, state, rng, use_cache=False)\n |      Applies this layer as a pure function with no optional args.\n |      \n |      This method exposes the layer&#39;s computation as a pure function. This is\n |      especially useful for JIT compilation. Do not override, use `forward`\n |      instead.\n |      \n |      Args:\n |        x: Zero or more input tensors, packaged as described in the `Layer` class\n |            docstring.\n |        weights: A tuple or list of trainable weights, with one element for this\n |            layer if this layer has no sublayers, or one for each sublayer if\n |            this layer has sublayers. If a layer (or sublayer) has no trainable\n |            weights, the corresponding weights element is an empty tuple.\n |        state: Layer-specific non-parameter state that can update between batches.\n |        rng: Single-use random number generator (JAX PRNG key).\n |        use_cache: if `True`, cache weights and state in the layer object; used\n |          to implement layer sharing in combinators.\n |      \n |      Returns:\n |        A tuple of `(tensors, state)`. The tensors match the number (`n_out`)\n |        promised by this layer, and are packaged as described in the `Layer`\n |        class docstring.\n |  \n |  weights_and_state_signature(self, input_signature)\n |      Return a pair containing the signatures of weights and state.\n |  \n |  ----------------------------------------------------------------------\n |  Readonly properties inherited from trax.layers.base.Layer:\n |  \n |  has_backward\n |      Returns `True` if this layer provides its own custom backward pass code.\n |      \n |      A layer subclass that provides custom backward pass code (for custom\n |      gradients) must override this method to return `True`.\n |  \n |  n_in\n |      Returns how many tensors this layer expects as input.\n |  \n |  n_out\n |      Returns how many tensors this layer promises as output.\n |  \n |  name\n |      Returns the name of this layer.\n |  \n |  sublayers\n |      Returns a tuple containing this layer&#39;s sublayers; may be empty.\n |  \n |  ----------------------------------------------------------------------\n |  Data descriptors inherited from trax.layers.base.Layer:\n |  \n |  __dict__\n |      dictionary for instance variables (if defined)\n |  \n |  __weakref__\n |      list of weak references to the object (if defined)\n |  \n |  rng\n |      Returns a single-use random number generator without advancing it.\n |  \n |  state\n |      Returns a tuple containing this layer&#39;s state; may be empty.\n |      \n |      If the layer has sublayers, the state by convention will be\n |      a tuple of length `len(sublayers)` containing sublayer states.\n |      Note that in this case self._state only marks which ones are shared.\n |  \n |  weights\n |      Returns this layer&#39;s weights.\n |      \n |      Depending on the layer, the weights can be in the form of:\n |      \n |        - an empty tuple\n |        - a tensor (ndarray)\n |        - a nested structure of tuples and tensors\n |      \n |      If the layer has sublayers, the weights by convention will be\n |      a tuple of length `len(sublayers)` containing the weights of sublayers.\n |      Note that in this case self._weights only marks which ones are shared.\n\n"
    }
   ],
   "source": [
    "help(tl.LayerNorm)"
   ]
  },
  {
   "cell_type": "code",
   "execution_count": 35,
   "metadata": {},
   "outputs": [],
   "source": [
    "norm = tl.LayerNorm()"
   ]
  },
  {
   "cell_type": "code",
   "execution_count": 36,
   "metadata": {
    "tags": []
   },
   "outputs": [
    {
     "output_type": "stream",
     "name": "stdout",
     "text": "Help on function signature in module trax.shapes:\n\nsignature(obj)\n    Returns a `ShapeDtype` signature for the given `obj`.\n    \n    A signature is either a `ShapeDtype` instance or a tuple of `ShapeDtype`\n    instances. Note that this function is permissive with respect to its inputs\n    (accepts lists or tuples or dicts, and underlying objects can be any type\n    as long as they have shape and dtype attributes) and returns the corresponding\n    nested structure of `ShapeDtype`.\n    \n    Args:\n      obj: An object that has `shape` and `dtype` attributes, or a list/tuple/dict\n          of such objects.\n    \n    Returns:\n      A corresponding nested structure of `ShapeDtype` instances.\n\n"
    }
   ],
   "source": [
    "help(shapes.signature)"
   ]
  },
  {
   "cell_type": "code",
   "execution_count": 37,
   "metadata": {},
   "outputs": [],
   "source": [
    "x = np.array([1,2,3,4], dtype='float')"
   ]
  },
  {
   "cell_type": "code",
   "execution_count": 38,
   "metadata": {},
   "outputs": [],
   "source": [
    "# Use the input data signature to get shape and type for initializing weights and biases\n",
    "# We need to convert the input datatype from usual tuple to trax ShapeDtype"
   ]
  },
  {
   "cell_type": "code",
   "execution_count": 39,
   "metadata": {},
   "outputs": [
    {
     "output_type": "execute_result",
     "data": {
      "text/plain": "((DeviceArray([1., 1., 1., 1.], dtype=float32),\n  DeviceArray([0., 0., 0., 0.], dtype=float32)),\n ())"
     },
     "metadata": {},
     "execution_count": 39
    }
   ],
   "source": [
    "norm.init(shapes.signature(x))"
   ]
  },
  {
   "cell_type": "code",
   "execution_count": 40,
   "metadata": {},
   "outputs": [
    {
     "output_type": "execute_result",
     "data": {
      "text/plain": "tuple"
     },
     "metadata": {},
     "execution_count": 40
    }
   ],
   "source": [
    "type(x.shape)"
   ]
  },
  {
   "cell_type": "code",
   "execution_count": 41,
   "metadata": {},
   "outputs": [
    {
     "output_type": "execute_result",
     "data": {
      "text/plain": "trax.shapes.ShapeDtype"
     },
     "metadata": {},
     "execution_count": 41
    }
   ],
   "source": [
    "type(shapes.signature(x))"
   ]
  },
  {
   "cell_type": "code",
   "execution_count": 42,
   "metadata": {},
   "outputs": [
    {
     "output_type": "execute_result",
     "data": {
      "text/plain": "(DeviceArray([1., 1., 1., 1.], dtype=float32),\n DeviceArray([0., 0., 0., 0.], dtype=float32))"
     },
     "metadata": {},
     "execution_count": 42
    }
   ],
   "source": [
    "norm.weights"
   ]
  },
  {
   "cell_type": "code",
   "execution_count": 43,
   "metadata": {},
   "outputs": [],
   "source": [
    "y = norm(x)"
   ]
  },
  {
   "cell_type": "code",
   "execution_count": 44,
   "metadata": {},
   "outputs": [
    {
     "output_type": "execute_result",
     "data": {
      "text/plain": "DeviceArray([-1.3416404 , -0.44721344,  0.44721344,  1.3416404 ], dtype=float32)"
     },
     "metadata": {},
     "execution_count": 44
    }
   ],
   "source": [
    "y"
   ]
  },
  {
   "cell_type": "code",
   "execution_count": 45,
   "metadata": {},
   "outputs": [],
   "source": [
    "# Custom Layers"
   ]
  },
  {
   "cell_type": "code",
   "execution_count": 46,
   "metadata": {
    "tags": []
   },
   "outputs": [
    {
     "output_type": "stream",
     "name": "stdout",
     "text": "Help on function Fn in module trax.layers.base:\n\nFn(name, f, n_out=1)\n    Returns a layer with no weights that applies the function `f`.\n    \n    `f` can take and return any number of arguments, and takes only positional\n    arguments -- no default or keyword arguments. It often uses JAX-numpy (`jnp`).\n    The following, for example, would create a layer that takes two inputs and\n    returns two outputs -- element-wise sums and maxima:\n    \n        `Fn(&#39;SumAndMax&#39;, lambda x0, x1: (x0 + x1, jnp.maximum(x0, x1)), n_out=2)`\n    \n    The layer&#39;s number of inputs (`n_in`) is automatically set to number of\n    positional arguments in `f`, but you must explicitly set the number of\n    outputs (`n_out`) whenever it&#39;s not the default value 1.\n    \n    Args:\n      name: Class-like name for the resulting layer; for use in debugging.\n      f: Pure function from input tensors to output tensors, where each input\n          tensor is a separate positional arg, e.g., `f(x0, x1) --&gt; x0 + x1`.\n          Output tensors must be packaged as specified in the `Layer` class\n          docstring.\n      n_out: Number of outputs promised by the layer; default value 1.\n    \n    Returns:\n      Layer executing the function `f`.\n\n"
    }
   ],
   "source": [
    "help(tl.Fn)"
   ]
  },
  {
   "cell_type": "code",
   "execution_count": 47,
   "metadata": {},
   "outputs": [],
   "source": [
    "def TimesTwo():\n",
    "    layer_name = \"TimesTwo\"\n",
    "\n",
    "    def func(x):\n",
    "        return x*2\n",
    "\n",
    "    return tl.Fn(layer_name, func)"
   ]
  },
  {
   "cell_type": "code",
   "execution_count": 48,
   "metadata": {},
   "outputs": [],
   "source": [
    "times_two = TimesTwo()"
   ]
  },
  {
   "cell_type": "code",
   "execution_count": 49,
   "metadata": {},
   "outputs": [
    {
     "output_type": "execute_result",
     "data": {
      "text/plain": "array([2., 4., 6., 8.])"
     },
     "metadata": {},
     "execution_count": 49
    }
   ],
   "source": [
    "times_two(x)"
   ]
  },
  {
   "cell_type": "code",
   "execution_count": 50,
   "metadata": {},
   "outputs": [],
   "source": [
    "def SumTen():\n",
    "    layer_name = \"SumTen\"\n",
    "\n",
    "    def add(x):\n",
    "        return x+10\n",
    "    return tl.Fn(layer_name, add)"
   ]
  },
  {
   "cell_type": "code",
   "execution_count": 51,
   "metadata": {},
   "outputs": [],
   "source": [
    "sum = SumTen()"
   ]
  },
  {
   "cell_type": "code",
   "execution_count": 52,
   "metadata": {},
   "outputs": [
    {
     "output_type": "execute_result",
     "data": {
      "text/plain": "20"
     },
     "metadata": {},
     "execution_count": 52
    }
   ],
   "source": [
    "sum(10)"
   ]
  },
  {
   "cell_type": "code",
   "execution_count": 53,
   "metadata": {},
   "outputs": [],
   "source": [
    "# Combinators"
   ]
  },
  {
   "cell_type": "code",
   "execution_count": 54,
   "metadata": {},
   "outputs": [],
   "source": [
    "# Serial Combinator"
   ]
  },
  {
   "cell_type": "code",
   "execution_count": 55,
   "metadata": {},
   "outputs": [],
   "source": [
    "serial = tl.Serial(\n",
    "    tl.LayerNorm(),\n",
    "    tl.Relu(),\n",
    "    times_two,\n",
    "\n",
    "    tl.Dense(n_units=2),\n",
    "    tl.LogSoftmax()\n",
    ")"
   ]
  },
  {
   "cell_type": "code",
   "execution_count": 60,
   "metadata": {},
   "outputs": [
    {
     "output_type": "execute_result",
     "data": {
      "text/plain": "(((DeviceArray([1, 1, 1, 1, 1], dtype=int32),\n   DeviceArray([0, 0, 0, 0, 0], dtype=int32)),\n  (),\n  (),\n  (DeviceArray([[ 0.4637612 , -0.40276128],\n                [ 0.80113703,  0.64133954],\n                [ 0.49185318, -0.03974866],\n                [ 0.73240066,  0.60542107],\n                [-0.22441587,  0.6409376 ]], dtype=float32),\n   DeviceArray([ 1.1225158e-06, -5.3297305e-07], dtype=float32)),\n  ()),\n ((), (), (), (), ()))"
     },
     "metadata": {},
     "execution_count": 60
    }
   ],
   "source": [
    "serial.init(shapes.signature(x))"
   ]
  },
  {
   "cell_type": "code",
   "execution_count": 61,
   "metadata": {},
   "outputs": [],
   "source": [
    "x = np.array([1,2,3,4,5])"
   ]
  },
  {
   "cell_type": "code",
   "execution_count": 62,
   "metadata": {},
   "outputs": [
    {
     "output_type": "execute_result",
     "data": {
      "text/plain": "DeviceArray([-2.3665137 , -0.09850311], dtype=float32)"
     },
     "metadata": {},
     "execution_count": 62
    }
   ],
   "source": [
    "serial(x)"
   ]
  },
  {
   "cell_type": "code",
   "execution_count": 63,
   "metadata": {},
   "outputs": [
    {
     "output_type": "execute_result",
     "data": {
      "text/plain": "1"
     },
     "metadata": {},
     "execution_count": 63
    }
   ],
   "source": [
    "serial.n_out"
   ]
  },
  {
   "cell_type": "code",
   "execution_count": 64,
   "metadata": {},
   "outputs": [
    {
     "output_type": "execute_result",
     "data": {
      "text/plain": "1"
     },
     "metadata": {},
     "execution_count": 64
    }
   ],
   "source": [
    "serial.n_in"
   ]
  },
  {
   "cell_type": "code",
   "execution_count": null,
   "metadata": {},
   "outputs": [],
   "source": []
  }
 ]
}